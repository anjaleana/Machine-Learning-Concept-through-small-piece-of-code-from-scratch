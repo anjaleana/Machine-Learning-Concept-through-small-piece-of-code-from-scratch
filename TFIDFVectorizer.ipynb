{
 "cells": [
  {
   "cell_type": "code",
   "execution_count": 44,
   "metadata": {},
   "outputs": [],
   "source": [
    "corpus = ['it was the best of times', \n",
    "          'it was the worst of times', \n",
    "          'it was the age of wisdom', \n",
    "          'it was the age of foolishness']"
   ]
  },
  {
   "cell_type": "markdown",
   "metadata": {},
   "source": [
    "#### Caculating  TFidf  Vectorizer using sklearn library"
   ]
  },
  {
   "cell_type": "code",
   "execution_count": 45,
   "metadata": {},
   "outputs": [
    {
     "name": "stdout",
     "output_type": "stream",
     "text": [
      "  (0, 7)\t0.3169454420370736\n",
      "  (0, 6)\t0.4788492951654494\n",
      "  (0, 5)\t0.3169454420370736\n",
      "  (0, 4)\t0.3169454420370736\n",
      "  (0, 3)\t0.3169454420370736\n",
      "  (0, 1)\t0.6073596130854014\n",
      "  (1, 9)\t0.6073596130854014\n",
      "  (1, 7)\t0.3169454420370736\n",
      "  (1, 6)\t0.4788492951654494\n",
      "  (1, 5)\t0.3169454420370736\n",
      "  (1, 4)\t0.3169454420370736\n",
      "  (1, 3)\t0.3169454420370736\n",
      "  (2, 8)\t0.6073596130854014\n",
      "  (2, 7)\t0.3169454420370736\n",
      "  (2, 5)\t0.3169454420370736\n",
      "  (2, 4)\t0.3169454420370736\n",
      "  (2, 3)\t0.3169454420370736\n",
      "  (2, 0)\t0.4788492951654494\n",
      "  (3, 7)\t0.3169454420370736\n",
      "  (3, 5)\t0.3169454420370736\n",
      "  (3, 4)\t0.3169454420370736\n",
      "  (3, 3)\t0.3169454420370736\n",
      "  (3, 2)\t0.6073596130854014\n",
      "  (3, 0)\t0.4788492951654494\n"
     ]
    }
   ],
   "source": [
    "from sklearn.feature_extraction.text import TfidfVectorizer\n",
    "vectorizer = TfidfVectorizer()\n",
    "vectorizer.fit(corpus)\n",
    "skoutput = vectorizer.transform(corpus)\n",
    "print(skoutput)"
   ]
  },
  {
   "cell_type": "markdown",
   "metadata": {},
   "source": [
    "We found as sparse matrix ((row,column),value)"
   ]
  },
  {
   "cell_type": "code",
   "execution_count": 46,
   "metadata": {},
   "outputs": [
    {
     "name": "stdout",
     "output_type": "stream",
     "text": [
      "['age', 'best', 'foolishness', 'it', 'of', 'the', 'times', 'was', 'wisdom', 'worst']\n"
     ]
    }
   ],
   "source": [
    "print(vectorizer.get_feature_names())"
   ]
  },
  {
   "cell_type": "markdown",
   "metadata": {},
   "source": [
    "Sklearn get_feature_names ,They are sorted in alphabetic order by default"
   ]
  },
  {
   "cell_type": "code",
   "execution_count": 47,
   "metadata": {},
   "outputs": [
    {
     "name": "stdout",
     "output_type": "stream",
     "text": [
      "[1.51082562 1.91629073 1.91629073 1.         1.         1.\n",
      " 1.51082562 1.         1.91629073 1.91629073]\n"
     ]
    }
   ],
   "source": [
    "print(vectorizer.idf_)"
   ]
  },
  {
   "cell_type": "markdown",
   "metadata": {},
   "source": [
    "IDF values are calculated for each word in corpus = 1+log (base(e))(total number of document/Number of document where the words occur)"
   ]
  },
  {
   "cell_type": "code",
   "execution_count": 48,
   "metadata": {},
   "outputs": [
    {
     "name": "stdout",
     "output_type": "stream",
     "text": [
      "(4, 10)\n"
     ]
    }
   ],
   "source": [
    "print(skoutput.shape)"
   ]
  },
  {
   "cell_type": "code",
   "execution_count": 49,
   "metadata": {},
   "outputs": [
    {
     "name": "stdout",
     "output_type": "stream",
     "text": [
      "  (0, 7)\t0.3169454420370736\n",
      "  (0, 6)\t0.4788492951654494\n",
      "  (0, 5)\t0.3169454420370736\n",
      "  (0, 4)\t0.3169454420370736\n",
      "  (0, 3)\t0.3169454420370736\n",
      "  (0, 1)\t0.6073596130854014\n"
     ]
    }
   ],
   "source": [
    "print(skoutput[0])"
   ]
  },
  {
   "cell_type": "markdown",
   "metadata": {},
   "source": [
    "Here output is the sparse matrix"
   ]
  },
  {
   "cell_type": "code",
   "execution_count": 50,
   "metadata": {},
   "outputs": [
    {
     "name": "stdout",
     "output_type": "stream",
     "text": [
      "[[0.         0.60735961 0.         0.31694544 0.31694544 0.31694544\n",
      "  0.4788493  0.31694544 0.         0.        ]]\n"
     ]
    }
   ],
   "source": [
    "print(skoutput[0].toarray())"
   ]
  },
  {
   "cell_type": "markdown",
   "metadata": {},
   "source": [
    "We have converted the sparse matrix to array with length of 10"
   ]
  },
  {
   "cell_type": "markdown",
   "metadata": {},
   "source": [
    "### Using Scratch"
   ]
  },
  {
   "cell_type": "markdown",
   "metadata": {},
   "source": [
    "#### Let's import Library"
   ]
  },
  {
   "cell_type": "code",
   "execution_count": 51,
   "metadata": {},
   "outputs": [],
   "source": [
    "import warnings\n",
    "warnings.filterwarnings(\"ignore\")\n",
    "import pandas as pd\n",
    "from tqdm import tqdm"
   ]
  },
  {
   "cell_type": "code",
   "execution_count": 55,
   "metadata": {},
   "outputs": [],
   "source": [
    "from sklearn.preprocessing import normalize\n",
    "\n",
    "def fit(dataset):\n",
    "    unique_word = set()#at first we will intialize the empty set\n",
    "    #check if dataset is list or not\n",
    "    if isinstance(dataset,(list)):\n",
    "        for row in dataset:\n",
    "            for word in row.split(\" \"):\n",
    "                if len(word)<2:\n",
    "                    continue\n",
    "                unique_word.add(word)\n",
    "        unique_word = sorted(list(unique_word))\n",
    "        vocab = {j:i for i,j in enumerate(unique_word)}\n",
    "        return vocab\n",
    "    else:\n",
    "        print(\"you need to pass list of sentence\")\n",
    "                    "
   ]
  },
  {
   "cell_type": "code",
   "execution_count": 56,
   "metadata": {},
   "outputs": [],
   "source": [
    "# caculating the IDF values and Sparse matrix\n",
    "import math\n",
    "def transform(dataset,vocab):\n",
    "    total_num_doc = len(dataset)\n",
    "    #return total_num_doc\n",
    "    dataset1 = ' '.join(dataset)\n",
    "    #print(dataset1)\n",
    "    vocab2 = ' '.join(vocab)\n",
    "    #print(vocab2)\n",
    "    print(\"IDF values\")\n",
    "    for word in vocab2.split(\" \"):\n",
    "        number_of_word_occur = 0\n",
    "        for word1 in dataset1.split(\" \"):\n",
    "            if word == word1:\n",
    "                number_of_word_occur += 1\n",
    "        print(math.log(float(total_num_doc+1)/(number_of_word_occur+1))+1)        \n",
    "                \n",
    "    \n",
    "    "
   ]
  },
  {
   "cell_type": "code",
   "execution_count": 57,
   "metadata": {},
   "outputs": [
    {
     "name": "stdout",
     "output_type": "stream",
     "text": [
      "['age', 'best', 'foolishness', 'it', 'of', 'the', 'times', 'was', 'wisdom', 'worst']\n",
      "IDF values\n",
      "1.5108256237659907\n",
      "1.916290731874155\n",
      "1.916290731874155\n",
      "1.0\n",
      "1.0\n",
      "1.0\n",
      "1.5108256237659907\n",
      "1.0\n",
      "1.916290731874155\n",
      "1.916290731874155\n"
     ]
    }
   ],
   "source": [
    "vocab = fit([\"it was the best of times\",\"it was the worst of times\", \"it was the age of wisdom\",\"it was the age of foolishness\"])\n",
    "print(list(vocab.keys()))\n",
    "answer = transform(corpus,vocab)\n",
    "#print(answer)"
   ]
  },
  {
   "cell_type": "markdown",
   "metadata": {},
   "source": [
    "#### Observation:  We got the Unique features values and IDF values"
   ]
  },
  {
   "cell_type": "code",
   "execution_count": null,
   "metadata": {},
   "outputs": [],
   "source": []
  }
 ],
 "metadata": {
  "kernelspec": {
   "display_name": "Python 3",
   "language": "python",
   "name": "python3"
  },
  "language_info": {
   "codemirror_mode": {
    "name": "ipython",
    "version": 3
   },
   "file_extension": ".py",
   "mimetype": "text/x-python",
   "name": "python",
   "nbconvert_exporter": "python",
   "pygments_lexer": "ipython3",
   "version": "3.6.5"
  }
 },
 "nbformat": 4,
 "nbformat_minor": 4
}
